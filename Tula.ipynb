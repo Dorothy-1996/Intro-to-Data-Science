{
  "nbformat": 4,
  "nbformat_minor": 0,
  "metadata": {
    "colab": {
      "name": "Tula.ipynb",
      "version": "0.3.2",
      "provenance": []
    },
    "kernelspec": {
      "name": "python3",
      "display_name": "Python 3"
    }
  },
  "cells": [
    {
      "cell_type": "code",
      "metadata": {
        "id": "Zo2EgQ2qnHmK",
        "colab_type": "code",
        "colab": {}
      },
      "source": [
        "first_name= \"Dorothy\"\n"
      ],
      "execution_count": 0,
      "outputs": []
    },
    {
      "cell_type": "code",
      "metadata": {
        "id": "9Czf-AYzpgvR",
        "colab_type": "code",
        "colab": {
          "base_uri": "https://localhost:8080/",
          "height": 34
        },
        "outputId": "80c18a93-be4f-4d90-e0c4-35ddbd802ca1"
      },
      "source": [
        "first_name"
      ],
      "execution_count": 4,
      "outputs": [
        {
          "output_type": "execute_result",
          "data": {
            "text/plain": [
              "'Dorothy'"
            ]
          },
          "metadata": {
            "tags": []
          },
          "execution_count": 4
        }
      ]
    },
    {
      "cell_type": "code",
      "metadata": {
        "id": "N5QIX8bBpjjC",
        "colab_type": "code",
        "colab": {}
      },
      "source": [
        "first_name =1"
      ],
      "execution_count": 0,
      "outputs": []
    },
    {
      "cell_type": "code",
      "metadata": {
        "id": "M3yY6HMzqFQW",
        "colab_type": "code",
        "colab": {
          "base_uri": "https://localhost:8080/",
          "height": 34
        },
        "outputId": "1d7b45b9-3fad-4f5d-e242-9d1cccbd8592"
      },
      "source": [
        "first_name "
      ],
      "execution_count": 6,
      "outputs": [
        {
          "output_type": "execute_result",
          "data": {
            "text/plain": [
              "1"
            ]
          },
          "metadata": {
            "tags": []
          },
          "execution_count": 6
        }
      ]
    },
    {
      "cell_type": "code",
      "metadata": {
        "id": "3DnOQ55XqNM0",
        "colab_type": "code",
        "colab": {}
      },
      "source": [
        "# DATA TYPES\n",
        "# dictionary\n",
        "ex_dict = {\"name\":\"Dorothy\"}\n",
        "# list\n",
        "ex_list = [\"julia\",\"Dorothy\",1 ,2.45]\n",
        "# tuples\n",
        "ex_tuple = ((1,2,3,4)\n",
        "# integers\n",
        "ex_int = 1,2,3,4\n",
        "# float\n",
        "ex_float = 0.45\n",
        "# bool\n",
        "ex_bool = True\n"
      ],
      "execution_count": 0,
      "outputs": []
    },
    {
      "cell_type": "code",
      "metadata": {
        "id": "UsEuLxRXsrOI",
        "colab_type": "code",
        "colab": {
          "base_uri": "https://localhost:8080/",
          "height": 68
        },
        "outputId": "75609760-a30a-4cc2-d229-18c676fe3280"
      },
      "source": [
        "ex_list = [\"julia\",\"Dorothy\",1 ,2.45,ex_dict]\n",
        "print (type(ex_list))\n",
        "print(ex_list)\n",
        "len(ex_list)"
      ],
      "execution_count": 31,
      "outputs": [
        {
          "output_type": "stream",
          "text": [
            "<class 'list'>\n",
            "['julia', 'Dorothy', 1, 2.45, {'name': 'Dorothy'}]\n"
          ],
          "name": "stdout"
        },
        {
          "output_type": "execute_result",
          "data": {
            "text/plain": [
              "5"
            ]
          },
          "metadata": {
            "tags": []
          },
          "execution_count": 31
        }
      ]
    },
    {
      "cell_type": "code",
      "metadata": {
        "id": "AR5ynbKxsrSW",
        "colab_type": "code",
        "colab": {
          "base_uri": "https://localhost:8080/",
          "height": 34
        },
        "outputId": "3a613956-9501-43f1-bd69-63f5ea98b8d5"
      },
      "source": [
        "\n",
        "# integers\n",
        "ex_int=2\n",
        "type(ex_int )\n"
      ],
      "execution_count": 30,
      "outputs": [
        {
          "output_type": "execute_result",
          "data": {
            "text/plain": [
              "int"
            ]
          },
          "metadata": {
            "tags": []
          },
          "execution_count": 30
        }
      ]
    },
    {
      "cell_type": "code",
      "metadata": {
        "id": "_Zl92u6EsrXT",
        "colab_type": "code",
        "colab": {
          "base_uri": "https://localhost:8080/",
          "height": 51
        },
        "outputId": "d60b10a5-9f3f-4a53-cae6-7fc1b65b0eb8"
      },
      "source": [
        "# tuples\n",
        "\n",
        "ex_tuple = (1,2,3,4) \n",
        "print(sum(ex_tuple))\n",
        "type(ex_tuple)\n",
        "len(ex_tuple)"
      ],
      "execution_count": 28,
      "outputs": [
        {
          "output_type": "stream",
          "text": [
            "10\n"
          ],
          "name": "stdout"
        },
        {
          "output_type": "execute_result",
          "data": {
            "text/plain": [
              "4"
            ]
          },
          "metadata": {
            "tags": []
          },
          "execution_count": 28
        }
      ]
    },
    {
      "cell_type": "code",
      "metadata": {
        "id": "3q3yaXOasrag",
        "colab_type": "code",
        "colab": {}
      },
      "source": [
        ""
      ],
      "execution_count": 0,
      "outputs": []
    },
    {
      "cell_type": "code",
      "metadata": {
        "id": "4ESio_VWsre0",
        "colab_type": "code",
        "colab": {}
      },
      "source": [
        ""
      ],
      "execution_count": 0,
      "outputs": []
    },
    {
      "cell_type": "code",
      "metadata": {
        "id": "fGhoN6GUsd_w",
        "colab_type": "code",
        "colab": {
          "base_uri": "https://localhost:8080/",
          "height": 34
        },
        "outputId": "b3b5ef85-d54c-4790-9350-f0427379599f"
      },
      "source": [
        "# dictionary\n",
        "ex_dict = {\"name\":\"Dorothy\"}\n",
        "type(ex_dict)"
      ],
      "execution_count": 8,
      "outputs": [
        {
          "output_type": "execute_result",
          "data": {
            "text/plain": [
              "dict"
            ]
          },
          "metadata": {
            "tags": []
          },
          "execution_count": 8
        }
      ]
    },
    {
      "cell_type": "code",
      "metadata": {
        "id": "7X61ID1Tsii1",
        "colab_type": "code",
        "colab": {
          "base_uri": "https://localhost:8080/",
          "height": 34
        },
        "outputId": "ef981b85-8812-4e56-9257-8abb00c56673"
      },
      "source": [
        "# bool\n",
        "ex_bool = True\n",
        "type(ex_bool)"
      ],
      "execution_count": 21,
      "outputs": [
        {
          "output_type": "execute_result",
          "data": {
            "text/plain": [
              "bool"
            ]
          },
          "metadata": {
            "tags": []
          },
          "execution_count": 21
        }
      ]
    },
    {
      "cell_type": "code",
      "metadata": {
        "id": "Ipi53P79ubkW",
        "colab_type": "code",
        "colab": {}
      },
      "source": [
        ""
      ],
      "execution_count": 0,
      "outputs": []
    }
  ]
}